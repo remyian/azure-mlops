{
  "cells": [
    {
      "cell_type": "code",
      "source": [
        "%matplotlib inline\n",
        "import numpy as np\n",
        "import matplotlib.pyplot as plt\n",
        "\n",
        "import azureml.core\n",
        "from azureml.core import Workspace\n",
        "\n",
        "# check core SDK version number\n",
        "print(\"Azure ML SDK Version: \", azureml.core.VERSION)"
      ],
      "outputs": [],
      "execution_count": null,
      "metadata": {
        "gather": {
          "logged": 1625414044166
        }
      }
    },
    {
      "cell_type": "code",
      "source": [
        "# load workspace configuration from the config.json file in the current folder.\n",
        "ws = Workspace.from_config('config.json')\n",
        "print(ws.name, ws.location, ws.resource_group, sep='\\t')"
      ],
      "outputs": [],
      "execution_count": null,
      "metadata": {
        "gather": {
          "logged": 1625414045064
        }
      }
    },
    {
      "cell_type": "code",
      "source": [
        "from azureml.core import Dataset\n",
        "\n",
        "tveer_components = os.path.join(os.getcwd(), 'data/tveer/components')\n",
        "os.makedirs(tveer_components, exist_ok=True)\n"
      ],
      "outputs": [],
      "execution_count": null,
      "metadata": {
        "gather": {
          "logged": 1625414045248
        }
      }
    },
    {
      "cell_type": "code",
      "source": [
        "dataset_tveer = Dataset.get_by_name(ws, name='components')"
      ],
      "outputs": [],
      "execution_count": null,
      "metadata": {
        "gather": {
          "logged": 1625414048363
        }
      }
    },
    {
      "cell_type": "code",
      "source": [
        "# mount dataset onto the mounted_path of a Linux-based compute\n",
        "mnt_ctx_tveer = dataset_tveer.mount(tveer_components)\n",
        "\n",
        "mnt_ctx_tveer.start()"
      ],
      "outputs": [],
      "execution_count": null,
      "metadata": {
        "gather": {
          "logged": 1625414057394
        }
      }
    },
    {
      "cell_type": "code",
      "source": [
        "component_names = os.listdir(\"data/tveer/components\")"
      ],
      "outputs": [],
      "execution_count": null,
      "metadata": {
        "collapsed": true,
        "jupyter": {
          "source_hidden": false,
          "outputs_hidden": false
        },
        "nteract": {
          "transient": {
            "deleting": false
          }
        },
        "gather": {
          "logged": 1625414062551
        }
      }
    },
    {
      "cell_type": "code",
      "source": [
        "component_names"
      ],
      "outputs": [],
      "execution_count": null,
      "metadata": {
        "collapsed": true,
        "jupyter": {
          "source_hidden": false,
          "outputs_hidden": false
        },
        "nteract": {
          "transient": {
            "deleting": false
          }
        },
        "gather": {
          "logged": 1625414062733
        }
      }
    },
    {
      "cell_type": "code",
      "source": [
        "import math\r\n",
        "def print_multiple_images(*images, **kwargs):\r\n",
        "    amount_of_images = len(images)\r\n",
        "    rows = math.ceil(len(images) / 5)\r\n",
        "    cols = 5 if len(images) > 5 else len(images)\r\n",
        "    fig, axes = plt.subplots(rows, cols, figsize=(24, 3 * rows))\r\n",
        "    axes_1d = axes.ravel() if amount_of_images > 1 else [axes]\r\n",
        "    for i in range(len(axes_1d)):\r\n",
        "        try:\r\n",
        "            axes_1d[i].imshow(images[i], **kwargs)\r\n",
        "            axes_1d[i].axis('off')    \r\n",
        "            axes_1d[i].set_title(images[i].shape, fontdict={'fontsize': 20})\r\n",
        "        except IndexError:\r\n",
        "            axes_1d[i].axis('off')\r\n",
        "    plt.show()"
      ],
      "outputs": [],
      "execution_count": null,
      "metadata": {
        "collapsed": true,
        "jupyter": {
          "source_hidden": false,
          "outputs_hidden": false
        },
        "nteract": {
          "transient": {
            "deleting": false
          }
        },
        "gather": {
          "logged": 1625414063017
        }
      }
    },
    {
      "cell_type": "code",
      "source": [
        "from glob import glob\r\n",
        "all_components = glob('data/tveer/components/')"
      ],
      "outputs": [],
      "execution_count": null,
      "metadata": {
        "collapsed": true,
        "jupyter": {
          "source_hidden": false,
          "outputs_hidden": false
        },
        "nteract": {
          "transient": {
            "deleting": false
          }
        },
        "gather": {
          "logged": 1625414063200
        }
      }
    },
    {
      "cell_type": "code",
      "source": [
        "import json"
      ],
      "outputs": [],
      "execution_count": null,
      "metadata": {
        "collapsed": true,
        "jupyter": {
          "source_hidden": false,
          "outputs_hidden": false
        },
        "nteract": {
          "transient": {
            "deleting": false
          }
        },
        "gather": {
          "logged": 1625414063327
        }
      }
    },
    {
      "cell_type": "code",
      "source": [
        "all_components = []\r\n",
        "all_labels = []\r\n",
        "all_sizes = []\r\n",
        "for comp in os.listdir('data/tveer/components'):\r\n",
        "    for img_uri in glob(os.path.join('data/tveer/components', comp) + \"/*.png\"):\r\n",
        "        try:\r\n",
        "            size = img_uri.split(\".png\")[-2]\r\n",
        "            with open(size + '--size.json', \"r\") as f:\r\n",
        "                all_sizes.append(json.load(f))\r\n",
        "                img = plt.imread(img_uri)[:,:,:3]\r\n",
        "                all_components.append(img)\r\n",
        "                all_labels.append(comp)\r\n",
        "        except FileNotFoundError:\r\n",
        "            pass"
      ],
      "outputs": [],
      "execution_count": null,
      "metadata": {
        "collapsed": true,
        "jupyter": {
          "source_hidden": false,
          "outputs_hidden": false
        },
        "nteract": {
          "transient": {
            "deleting": false
          }
        },
        "gather": {
          "logged": 1625414068691
        }
      }
    },
    {
      "cell_type": "code",
      "source": [
        "all_labels_np = np.array(all_labels)\r\n",
        "all_components_np = np.array(all_components)\r\n",
        "all_sizes_np = np.array(all_sizes)"
      ],
      "outputs": [],
      "execution_count": null,
      "metadata": {
        "collapsed": true,
        "jupyter": {
          "source_hidden": false,
          "outputs_hidden": false
        },
        "nteract": {
          "transient": {
            "deleting": false
          }
        },
        "gather": {
          "logged": 1625414068865
        }
      }
    },
    {
      "cell_type": "code",
      "source": [
        "print_multiple_images(*all_components_np[:10])\r\n",
        "print(all_labels_np[:10])\r\n",
        "print(all_sizes_np[:10])"
      ],
      "outputs": [],
      "execution_count": null,
      "metadata": {
        "collapsed": true,
        "jupyter": {
          "source_hidden": false,
          "outputs_hidden": false
        },
        "nteract": {
          "transient": {
            "deleting": false
          }
        },
        "gather": {
          "logged": 1625414069302
        }
      }
    },
    {
      "cell_type": "markdown",
      "source": [
        "## Train and test splitted data"
      ],
      "metadata": {
        "nteract": {
          "transient": {
            "deleting": false
          }
        }
      }
    },
    {
      "cell_type": "code",
      "source": [
        "from sklearn.preprocessing import LabelEncoder\r\n",
        "from sklearn.preprocessing import OneHotEncoder"
      ],
      "outputs": [],
      "execution_count": null,
      "metadata": {
        "collapsed": true,
        "jupyter": {
          "source_hidden": false,
          "outputs_hidden": false
        },
        "nteract": {
          "transient": {
            "deleting": false
          }
        },
        "gather": {
          "logged": 1625414071214
        }
      }
    },
    {
      "cell_type": "code",
      "source": [
        "label_encoder = LabelEncoder()\r\n",
        "integer_encoded = label_encoder.fit_transform(sorted(all_labels_np))\r\n",
        "\r\n",
        "# binary encode\r\n",
        "onehot_encoder = OneHotEncoder(sparse=False)\r\n",
        "integer_encoded = integer_encoded.reshape(len(integer_encoded), 1)\r\n",
        "onehot_encoded = onehot_encoder.fit_transform(integer_encoded)\r\n",
        "\r\n",
        "import math\r\n",
        "\r\n",
        "training_indices = []\r\n",
        "test_indices = []\r\n",
        "for obj in range(0, onehot_encoded.shape[1]):\r\n",
        "    obj_indices = np.where(onehot_encoded[:,obj] == 1)[0]\r\n",
        "    np.random.shuffle(obj_indices)\r\n",
        "    training_samples = math.floor(0.7 * len(obj_indices))\r\n",
        "    training_indices.extend(obj_indices[:training_samples])\r\n",
        "    test_indices.extend(obj_indices[training_samples:])\r\n",
        "\r\n",
        "print(f\"{len(training_indices)} training indices\")\r\n",
        "print(f\"{len(test_indices)} test indices\")"
      ],
      "outputs": [],
      "execution_count": null,
      "metadata": {
        "collapsed": true,
        "jupyter": {
          "source_hidden": false,
          "outputs_hidden": false
        },
        "nteract": {
          "transient": {
            "deleting": false
          }
        },
        "gather": {
          "logged": 1625414071390
        }
      }
    },
    {
      "cell_type": "code",
      "source": [
        "X_train_conv = all_components_np[training_indices]\r\n",
        "X_train_values = all_sizes_np[training_indices]\r\n",
        "X_test_conv = all_components_np[test_indices]\r\n",
        "X_test_values = all_sizes_np[test_indices]\r\n",
        "\r\n",
        "y_train = onehot_encoded[training_indices]\r\n",
        "y_test = onehot_encoded[test_indices]\r\n"
      ],
      "outputs": [],
      "execution_count": null,
      "metadata": {
        "collapsed": true,
        "jupyter": {
          "source_hidden": false,
          "outputs_hidden": false
        },
        "nteract": {
          "transient": {
            "deleting": false
          }
        },
        "gather": {
          "logged": 1625414071568
        }
      }
    },
    {
      "cell_type": "code",
      "source": [
        "train_test_data = os.path.join(os.getcwd(), 'data/tveer/train_test_data')\r\n",
        "os.makedirs(train_test_data, exist_ok=True)"
      ],
      "outputs": [],
      "execution_count": null,
      "metadata": {
        "collapsed": true,
        "jupyter": {
          "source_hidden": false,
          "outputs_hidden": false
        },
        "nteract": {
          "transient": {
            "deleting": false
          }
        },
        "gather": {
          "logged": 1625419146891
        }
      }
    },
    {
      "cell_type": "code",
      "source": [
        "np.save(f\"{train_test_data}/X_train_conv.npy\", X_train_conv)\r\n",
        "np.save(f\"{train_test_data}/X_train_values.npy\", X_train_values)\r\n",
        "np.save(f\"{train_test_data}/X_test_conv.npy\", X_test_conv)\r\n",
        "np.save(f\"{train_test_data}/X_test_values.npy\", X_test_values)\r\n",
        "np.save(f\"{train_test_data}/y_train.npy\", y_train)\r\n",
        "np.save(f\"{train_test_data}/y_test.npy\", y_test)\r\n",
        "np.save(f\"{train_test_data}/component_names.npy\", np.asarray(component_names))"
      ],
      "outputs": [],
      "execution_count": null,
      "metadata": {
        "collapsed": true,
        "jupyter": {
          "source_hidden": false,
          "outputs_hidden": false
        },
        "nteract": {
          "transient": {
            "deleting": false
          }
        },
        "gather": {
          "logged": 1625419147801
        }
      }
    },
    {
      "cell_type": "code",
      "source": [
        "from azureml.core import Datastore"
      ],
      "outputs": [],
      "execution_count": null,
      "metadata": {
        "collapsed": true,
        "jupyter": {
          "source_hidden": false,
          "outputs_hidden": false
        },
        "nteract": {
          "transient": {
            "deleting": false
          }
        },
        "gather": {
          "logged": 1625414072234
        }
      }
    },
    {
      "cell_type": "code",
      "source": [
        "datastore = Datastore(ws)"
      ],
      "outputs": [],
      "execution_count": null,
      "metadata": {
        "collapsed": true,
        "jupyter": {
          "source_hidden": false,
          "outputs_hidden": false
        },
        "nteract": {
          "transient": {
            "deleting": false
          }
        },
        "gather": {
          "logged": 1625414072413
        }
      }
    },
    {
      "cell_type": "markdown",
      "source": [
        "## Generate an Augmented dataset"
      ],
      "metadata": {
        "nteract": {
          "transient": {
            "deleting": false
          }
        }
      }
    },
    {
      "cell_type": "code",
      "source": [
        "from tensorflow.keras.preprocessing.image import ImageDataGenerator"
      ],
      "outputs": [],
      "execution_count": null,
      "metadata": {
        "collapsed": true,
        "jupyter": {
          "source_hidden": false,
          "outputs_hidden": false
        },
        "nteract": {
          "transient": {
            "deleting": false
          }
        },
        "gather": {
          "logged": 1625414084463
        }
      }
    },
    {
      "cell_type": "code",
      "source": [
        "train_generator = ImageDataGenerator(rotation_range=360)\r\n"
      ],
      "outputs": [],
      "execution_count": null,
      "metadata": {
        "collapsed": true,
        "jupyter": {
          "source_hidden": false,
          "outputs_hidden": false
        },
        "nteract": {
          "transient": {
            "deleting": false
          }
        },
        "gather": {
          "logged": 1625414084650
        }
      }
    },
    {
      "cell_type": "code",
      "source": [
        "time_to_repeat_generator = 5\r\n",
        "image_generator = train_generator.flow([np.repeat(X_train_conv, time_to_repeat_generator, 0), np.repeat(X_train_values, time_to_repeat_generator, 0)], np.repeat(y_train, time_to_repeat_generator, 0), batch_size = 32)"
      ],
      "outputs": [],
      "execution_count": null,
      "metadata": {
        "collapsed": true,
        "jupyter": {
          "source_hidden": false,
          "outputs_hidden": false
        },
        "nteract": {
          "transient": {
            "deleting": false
          }
        },
        "gather": {
          "logged": 1625414084892
        }
      }
    },
    {
      "cell_type": "markdown",
      "source": [
        "Because we want to keep hold of the data that we trained with, we are going to save a few of this data to a new datastore."
      ],
      "metadata": {
        "nteract": {
          "transient": {
            "deleting": false
          }
        }
      }
    },
    {
      "cell_type": "code",
      "source": [
        "tveer_generator_path = os.path.join(os.getcwd(), 'data/tveer/generator')\r\n",
        "os.makedirs(tveer_generator_path, exist_ok=True)"
      ],
      "outputs": [],
      "execution_count": null,
      "metadata": {
        "collapsed": true,
        "jupyter": {
          "source_hidden": false,
          "outputs_hidden": false
        },
        "nteract": {
          "transient": {
            "deleting": false
          }
        },
        "gather": {
          "logged": 1625414085075
        }
      }
    },
    {
      "cell_type": "code",
      "source": [
        "from typing import Generator\r\n",
        "for i in range(20):\r\n",
        "    generated_data, generated_labels = image_generator.next()\r\n",
        "    for j in range(generated_data[1].shape[0]):\r\n",
        "        plt.imsave(f\"{tveer_generator_path}/{component_names[np.argmax(generated_labels[j])]}-{i}-{j}.png\", generated_data[0][j])\r\n",
        "        with open(f\"{tveer_generator_path}/{component_names[np.argmax(generated_labels[j])]}-{i}-{j}--size.json\", \"w\") as f:\r\n",
        "            json.dump(generated_data[1][j], f)"
      ],
      "outputs": [],
      "execution_count": null,
      "metadata": {
        "collapsed": true,
        "jupyter": {
          "source_hidden": false,
          "outputs_hidden": false
        },
        "nteract": {
          "transient": {
            "deleting": false
          }
        },
        "gather": {
          "logged": 1625414219722
        }
      }
    },
    {
      "cell_type": "code",
      "source": [
        "datastore.upload(src_dir='data/tveer/generator', target_path='generated')"
      ],
      "outputs": [],
      "execution_count": null,
      "metadata": {
        "collapsed": true,
        "jupyter": {
          "source_hidden": false,
          "outputs_hidden": true
        },
        "nteract": {
          "transient": {
            "deleting": false
          }
        },
        "gather": {
          "logged": 1625414229624
        }
      }
    },
    {
      "cell_type": "code",
      "source": [
        "generator_data = Dataset.File.from_files(\r\n",
        "    [\r\n",
        "        (datastore, 'generated')\r\n",
        "    ],\r\n",
        "    validate=False)"
      ],
      "outputs": [],
      "execution_count": null,
      "metadata": {
        "collapsed": true,
        "jupyter": {
          "source_hidden": false,
          "outputs_hidden": true
        },
        "nteract": {
          "transient": {
            "deleting": false
          }
        },
        "gather": {
          "logged": 1625414229749
        }
      }
    },
    {
      "cell_type": "code",
      "source": [
        "generator_dataset = generator_data.register(\r\n",
        "    workspace=ws,\r\n",
        "    name=\"generator_data\",\r\n",
        "    description=\"Components of the 't Veer dataset which have been generated and slightly augmented with rotations.\",\r\n",
        "    create_new_version=True)"
      ],
      "outputs": [],
      "execution_count": null,
      "metadata": {
        "collapsed": true,
        "jupyter": {
          "source_hidden": false,
          "outputs_hidden": false
        },
        "nteract": {
          "transient": {
            "deleting": false
          }
        },
        "gather": {
          "logged": 1625414230120
        }
      }
    },
    {
      "cell_type": "code",
      "source": [
        "from glob import glob\r\n",
        "import json"
      ],
      "outputs": [],
      "execution_count": null,
      "metadata": {
        "collapsed": true,
        "jupyter": {
          "source_hidden": false,
          "outputs_hidden": false
        },
        "nteract": {
          "transient": {
            "deleting": false
          }
        },
        "gather": {
          "logged": 1625414230283
        }
      }
    },
    {
      "cell_type": "code",
      "source": [
        "all_generated_images = []\r\n",
        "all_generated_sizes = []\r\n",
        "all_generated_labels = []\r\n",
        "for img in sorted(glob(f\"{tveer_generator_path}/*.png\")):\r\n",
        "    size_name = img.replace('.png', '--size.json')\r\n",
        "    all_generated_images.append(plt.imread(img)[:,:,:3] / 255)\r\n",
        "    all_generated_labels.append(img.split('-')[-3].split('/')[-1]) # Get the Object name (data/tveer/generator/Object 1-0-1.png --> Object 1)\r\n",
        "    with open(size_name, 'r') as f:\r\n",
        "        all_generated_sizes.append(json.load(f))"
      ],
      "outputs": [],
      "execution_count": null,
      "metadata": {
        "collapsed": true,
        "jupyter": {
          "source_hidden": false,
          "outputs_hidden": false
        },
        "nteract": {
          "transient": {
            "deleting": false
          }
        },
        "gather": {
          "logged": 1625414267870
        }
      }
    },
    {
      "cell_type": "code",
      "source": [
        "all_generated_images_np = np.asarray(all_generated_images)\r\n",
        "all_generated_sizes_np = np.asarray(all_generated_sizes)\r\n",
        "all_generated_labels = np.asarray(all_generated_labels)"
      ],
      "outputs": [],
      "execution_count": null,
      "metadata": {
        "collapsed": true,
        "jupyter": {
          "source_hidden": false,
          "outputs_hidden": false
        },
        "nteract": {
          "transient": {
            "deleting": false
          }
        },
        "gather": {
          "logged": 1625414267999
        }
      }
    },
    {
      "cell_type": "code",
      "source": [
        "label_encoder = LabelEncoder()\r\n",
        "integer_encoded = label_encoder.fit_transform(all_generated_labels)\r\n",
        "\r\n",
        "# binary encode\r\n",
        "onehot_encoder = OneHotEncoder(sparse=False)\r\n",
        "integer_encoded = integer_encoded.reshape(len(integer_encoded), 1)\r\n",
        "onehot_encoded = onehot_encoder.fit_transform(integer_encoded)"
      ],
      "outputs": [],
      "execution_count": null,
      "metadata": {
        "collapsed": true,
        "jupyter": {
          "source_hidden": false,
          "outputs_hidden": false
        },
        "nteract": {
          "transient": {
            "deleting": false
          }
        },
        "gather": {
          "logged": 1625414268104
        }
      }
    },
    {
      "cell_type": "code",
      "source": [
        "np.save(f\"data/tveer/train_test_data/X_train_conv_generated.npy\", all_generated_images_np)\r\n",
        "np.save(f\"data/tveer/train_test_data/X_train_values_generated.npy\", all_generated_sizes_np)\r\n",
        "np.save(f\"data/tveer/train_test_data/y_train_generated.npy\", onehot_encoded)"
      ],
      "outputs": [],
      "execution_count": null,
      "metadata": {
        "collapsed": true,
        "jupyter": {
          "source_hidden": false,
          "outputs_hidden": false
        },
        "nteract": {
          "transient": {
            "deleting": false
          }
        },
        "gather": {
          "logged": 1625414268470
        }
      }
    },
    {
      "cell_type": "code",
      "source": [
        "datastore.upload(src_dir='data/tveer/train_test_data', target_path='train_test_data')"
      ],
      "outputs": [],
      "execution_count": null,
      "metadata": {
        "collapsed": true,
        "jupyter": {
          "source_hidden": false,
          "outputs_hidden": false
        },
        "nteract": {
          "transient": {
            "deleting": false
          }
        },
        "gather": {
          "logged": 1625419163245
        }
      }
    },
    {
      "cell_type": "code",
      "source": [
        "train_test_dataset_files = Dataset.File.from_files(\r\n",
        "    [\r\n",
        "        (datastore, 'train_test_data')\r\n",
        "    ],\r\n",
        "    validate=False)"
      ],
      "outputs": [],
      "execution_count": null,
      "metadata": {
        "collapsed": true,
        "jupyter": {
          "source_hidden": false,
          "outputs_hidden": false
        },
        "nteract": {
          "transient": {
            "deleting": false
          }
        },
        "gather": {
          "logged": 1625419176501
        }
      }
    },
    {
      "cell_type": "code",
      "source": [
        "train_test_dataset = train_test_dataset_files.register(\r\n",
        "    workspace=ws,\r\n",
        "    name=\"train_test_dataset\",\r\n",
        "    description=\"A part of the components that have been processed and split in training and testing sets for an AI model.\",\r\n",
        "    create_new_version=True)"
      ],
      "outputs": [],
      "execution_count": null,
      "metadata": {
        "collapsed": true,
        "jupyter": {
          "source_hidden": false,
          "outputs_hidden": false
        },
        "nteract": {
          "transient": {
            "deleting": false
          }
        },
        "gather": {
          "logged": 1625419177533
        }
      }
    },
    {
      "cell_type": "code",
      "source": [],
      "outputs": [],
      "execution_count": null,
      "metadata": {
        "collapsed": true,
        "jupyter": {
          "source_hidden": false,
          "outputs_hidden": false
        },
        "nteract": {
          "transient": {
            "deleting": false
          }
        }
      }
    },
    {
      "cell_type": "code",
      "source": [],
      "outputs": [],
      "execution_count": null,
      "metadata": {
        "collapsed": true,
        "jupyter": {
          "source_hidden": false,
          "outputs_hidden": false
        },
        "nteract": {
          "transient": {
            "deleting": false
          }
        }
      }
    }
  ],
  "metadata": {
    "kernelspec": {
      "name": "python3-azureml",
      "language": "python",
      "display_name": "Python 3.6 - AzureML"
    },
    "language_info": {
      "name": "python",
      "version": "3.6.9",
      "mimetype": "text/x-python",
      "codemirror_mode": {
        "name": "ipython",
        "version": 3
      },
      "pygments_lexer": "ipython3",
      "nbconvert_exporter": "python",
      "file_extension": ".py"
    },
    "kernel_info": {
      "name": "python3-azureml"
    },
    "nteract": {
      "version": "nteract-front-end@1.0.0"
    },
    "microsoft": {
      "host": {
        "AzureML": {
          "notebookHasBeenCompleted": true
        }
      }
    }
  },
  "nbformat": 4,
  "nbformat_minor": 2
}