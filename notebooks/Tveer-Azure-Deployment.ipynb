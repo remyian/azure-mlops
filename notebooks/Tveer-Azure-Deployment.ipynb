{
  "cells": [
    {
      "cell_type": "code",
      "source": [
        "%matplotlib inline\r\n",
        "import numpy as np\r\n",
        "import matplotlib.pyplot as plt\r\n",
        "\r\n",
        "import azureml.core\r\n",
        "\r\n",
        "# check core SDK version number\r\n",
        "print(\"Azure ML SDK Version: \", azureml.core.VERSION)"
      ],
      "outputs": [],
      "execution_count": null,
      "metadata": {
        "gather": {
          "logged": 1625418560105
        }
      }
    },
    {
      "cell_type": "code",
      "source": [
        "import json\r\n",
        "class NumpyEncoder(json.JSONEncoder):\r\n",
        "    \"\"\" Special json encoder for numpy types \"\"\"\r\n",
        "    def default(self, obj):\r\n",
        "        if isinstance(obj, np.integer):\r\n",
        "            return int(obj)\r\n",
        "        elif isinstance(obj, np.floating):\r\n",
        "            return float(obj)\r\n",
        "        elif isinstance(obj, np.ndarray):\r\n",
        "            return obj.tolist()\r\n",
        "        return json.JSONEncoder.default(self, obj)\r\n"
      ],
      "outputs": [],
      "execution_count": null,
      "metadata": {
        "collapsed": true,
        "jupyter": {
          "source_hidden": false,
          "outputs_hidden": false
        },
        "nteract": {
          "transient": {
            "deleting": false
          }
        },
        "gather": {
          "logged": 1625418560184
        }
      }
    },
    {
      "cell_type": "code",
      "source": [
        "import tensorflow\r\n",
        "tensorflow.__version__"
      ],
      "outputs": [],
      "execution_count": null,
      "metadata": {
        "collapsed": true,
        "jupyter": {
          "source_hidden": false,
          "outputs_hidden": false
        },
        "nteract": {
          "transient": {
            "deleting": false
          }
        },
        "gather": {
          "logged": 1625418561534
        }
      }
    },
    {
      "cell_type": "code",
      "source": [
        "import uuid"
      ],
      "outputs": [],
      "execution_count": null,
      "metadata": {
        "collapsed": true,
        "jupyter": {
          "source_hidden": false,
          "outputs_hidden": false
        },
        "nteract": {
          "transient": {
            "deleting": false
          }
        },
        "gather": {
          "logged": 1625418561645
        }
      }
    },
    {
      "cell_type": "code",
      "source": [
        "from azureml.core import Workspace\n",
        "ws = Workspace.from_config()"
      ],
      "outputs": [],
      "execution_count": null,
      "metadata": {
        "collapsed": true,
        "jupyter": {
          "source_hidden": false,
          "outputs_hidden": false
        },
        "nteract": {
          "transient": {
            "deleting": false
          }
        },
        "gather": {
          "logged": 1625418563227
        }
      }
    },
    {
      "cell_type": "code",
      "source": [
        "from azureml.core import Run, Experiment, Workspace, Model\r\n",
        "from azureml.core.environment import Environment\r\n",
        "from azureml.core.model import InferenceConfig\r\n",
        "from azureml.core.conda_dependencies import CondaDependencies\r\n",
        "from azureml.core.webservice import Webservice, AciWebservice\r\n",
        "import json"
      ],
      "outputs": [],
      "execution_count": null,
      "metadata": {
        "collapsed": true,
        "jupyter": {
          "source_hidden": false,
          "outputs_hidden": false
        },
        "nteract": {
          "transient": {
            "deleting": false
          }
        },
        "gather": {
          "logged": 1625418563327
        }
      }
    },
    {
      "cell_type": "code",
      "source": [
        "with open('states/model_details.json', 'r') as f:\r\n",
        "    model_details = json.load(f)\r\n",
        "model = Model.deserialize(workspace=ws, model_payload=model_details['model'])\r\n"
      ],
      "outputs": [],
      "execution_count": null,
      "metadata": {
        "collapsed": true,
        "jupyter": {
          "source_hidden": false,
          "outputs_hidden": false
        },
        "nteract": {
          "transient": {
            "deleting": false
          }
        },
        "gather": {
          "logged": 1625418563897
        }
      }
    },
    {
      "cell_type": "code",
      "source": [
        "\r\n",
        "env = Environment('tveer-deployment-env')\r\n",
        "cd = CondaDependencies.create(\r\n",
        "    pip_packages=['azureml-defaults','numpy', 'tensorflow']\r\n",
        ")\r\n",
        "env.python.conda_dependencies = cd\r\n",
        "env.register(workspace = ws)"
      ],
      "outputs": [],
      "execution_count": null,
      "metadata": {
        "collapsed": true,
        "jupyter": {
          "source_hidden": false,
          "outputs_hidden": true
        },
        "nteract": {
          "transient": {
            "deleting": false
          }
        },
        "gather": {
          "logged": 1625418564294
        }
      }
    },
    {
      "cell_type": "code",
      "source": [
        "inference_config = InferenceConfig(entry_script='ai-training/score.py', environment=env)\r\n",
        "aciconfig = AciWebservice.deploy_configuration(\r\n",
        "    cpu_cores=1, \r\n",
        "    memory_gb=1, \r\n",
        "    tags={\"data\": \"tveer\",  \"method\" : \"keras\"}, \r\n",
        "    description='Classify images with tveer'\r\n",
        ")\r\n",
        "\r\n",
        "service_name = 'tveerdetection-svc-' + str(uuid.uuid4())[:4]\r\n",
        "service = Model.deploy(workspace=ws, \r\n",
        "                    name=service_name, \r\n",
        "                    models=[model], \r\n",
        "                    inference_config=inference_config, \r\n",
        "                    deployment_config=aciconfig)\r\n",
        "\r\n"
      ],
      "outputs": [],
      "execution_count": null,
      "metadata": {
        "collapsed": true,
        "jupyter": {
          "source_hidden": false,
          "outputs_hidden": false
        },
        "nteract": {
          "transient": {
            "deleting": false
          }
        },
        "gather": {
          "logged": 1625418697738
        }
      }
    },
    {
      "cell_type": "code",
      "source": [
        "service.wait_for_deployment(show_output=True)\r\n",
        "\r\n",
        "with open(\"states/service_details.json\", \"w\") as service_details:\r\n",
        "    json.dump(service.serialize(), service_details)"
      ],
      "outputs": [],
      "execution_count": null,
      "metadata": {
        "collapsed": true,
        "jupyter": {
          "source_hidden": false,
          "outputs_hidden": false
        },
        "nteract": {
          "transient": {
            "deleting": false
          }
        },
        "gather": {
          "logged": 1625418865805
        }
      }
    },
    {
      "cell_type": "markdown",
      "source": [
        "## Test deployment"
      ],
      "metadata": {
        "nteract": {
          "transient": {
            "deleting": false
          }
        }
      }
    },
    {
      "cell_type": "code",
      "source": [
        "from azureml.core import Dataset"
      ],
      "outputs": [],
      "execution_count": null,
      "metadata": {
        "collapsed": true,
        "jupyter": {
          "source_hidden": false,
          "outputs_hidden": false
        },
        "nteract": {
          "transient": {
            "deleting": false
          }
        },
        "gather": {
          "logged": 1625418865930
        }
      }
    },
    {
      "cell_type": "code",
      "source": [
        "train_test_dataset = Dataset.get_by_name(ws, name='train_test_dataset')"
      ],
      "outputs": [],
      "execution_count": null,
      "metadata": {
        "collapsed": true,
        "jupyter": {
          "source_hidden": false,
          "outputs_hidden": false
        },
        "nteract": {
          "transient": {
            "deleting": false
          }
        },
        "gather": {
          "logged": 1625419207092
        }
      }
    },
    {
      "cell_type": "code",
      "source": [
        "test_data_path = os.path.join(os.getcwd(), 'data/tveer/test_data')\r\n",
        "os.makedirs(test_data_path, exist_ok=True)"
      ],
      "outputs": [],
      "execution_count": null,
      "metadata": {
        "collapsed": true,
        "jupyter": {
          "source_hidden": false,
          "outputs_hidden": false
        },
        "nteract": {
          "transient": {
            "deleting": false
          }
        },
        "gather": {
          "logged": 1625419207619
        }
      }
    },
    {
      "cell_type": "code",
      "source": [
        "mnt_ctx_test_data = train_test_dataset.mount(test_data_path)\r\n",
        "\r\n",
        "mnt_ctx_test_data.start()\r\n"
      ],
      "outputs": [],
      "execution_count": null,
      "metadata": {
        "collapsed": true,
        "jupyter": {
          "source_hidden": false,
          "outputs_hidden": false
        },
        "nteract": {
          "transient": {
            "deleting": false
          }
        },
        "gather": {
          "logged": 1625419227090
        }
      }
    },
    {
      "cell_type": "code",
      "source": [
        "X_test_conv = np.load(os.path.join(test_data_path, 'X_test_conv.npy'))\r\n",
        "X_test_values = np.load(os.path.join(test_data_path, 'X_test_values.npy'))\r\n",
        "y_test = np.load(os.path.join(test_data_path, 'y_test.npy'))"
      ],
      "outputs": [],
      "execution_count": null,
      "metadata": {
        "collapsed": true,
        "jupyter": {
          "source_hidden": false,
          "outputs_hidden": false
        },
        "nteract": {
          "transient": {
            "deleting": false
          }
        },
        "gather": {
          "logged": 1625419235093
        }
      }
    },
    {
      "cell_type": "code",
      "source": [
        "labels = np.load(os.path.join(test_data_path, 'component_names.npy')).tolist()"
      ],
      "outputs": [],
      "execution_count": null,
      "metadata": {
        "collapsed": true,
        "jupyter": {
          "source_hidden": false,
          "outputs_hidden": false
        },
        "nteract": {
          "transient": {
            "deleting": false
          }
        },
        "gather": {
          "logged": 1625419237885
        }
      }
    },
    {
      "cell_type": "code",
      "source": [
        "%%time\r\n",
        "index = np.random.randint(0, len(y_test))\r\n",
        "data = (X_test_conv[index], X_test_values[index])\r\n",
        "plt.imshow(X_test_conv[index])\r\n",
        "plt.title(\"Name: {}, size: {}\".format(labels[np.argmax(y_test[index])], X_test_values[index]))\r\n",
        "\r\n",
        "dumped = json.dumps({\r\n",
        "    \"conv_data\": np.expand_dims(X_test_conv[index], 0),\r\n",
        "    \"values\": np.expand_dims(np.asarray(X_test_values[index]), 0)\r\n",
        "}, cls=NumpyEncoder)\r\n",
        "\r\n",
        "response = service.run(dumped)\r\n",
        "y_pred = np.argmax(response['result'], axis=1)[0]\r\n",
        "print(f\"We think this object is a: {labels[y_pred]}\")"
      ],
      "outputs": [],
      "execution_count": null,
      "metadata": {
        "collapsed": true,
        "jupyter": {
          "source_hidden": false,
          "outputs_hidden": false
        },
        "nteract": {
          "transient": {
            "deleting": false
          }
        },
        "gather": {
          "logged": 1625419457747
        }
      }
    },
    {
      "cell_type": "code",
      "source": [],
      "outputs": [],
      "execution_count": null,
      "metadata": {
        "collapsed": true,
        "jupyter": {
          "source_hidden": false,
          "outputs_hidden": false
        },
        "nteract": {
          "transient": {
            "deleting": false
          }
        }
      }
    }
  ],
  "metadata": {
    "kernelspec": {
      "name": "python38-azureml",
      "language": "python",
      "display_name": "Python 3.8 - AzureML"
    },
    "language_info": {
      "name": "python",
      "version": "3.8.1",
      "mimetype": "text/x-python",
      "codemirror_mode": {
        "name": "ipython",
        "version": 3
      },
      "pygments_lexer": "ipython3",
      "nbconvert_exporter": "python",
      "file_extension": ".py"
    },
    "kernel_info": {
      "name": "python38-azureml"
    },
    "microsoft": {
      "host": {
        "AzureML": {
          "notebookHasBeenCompleted": true
        }
      }
    },
    "nteract": {
      "version": "nteract-front-end@1.0.0"
    }
  },
  "nbformat": 4,
  "nbformat_minor": 2
}